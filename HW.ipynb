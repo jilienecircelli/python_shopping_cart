{
 "cells": [
  {
   "cell_type": "code",
   "execution_count": 2,
   "id": "1035c324",
   "metadata": {},
   "outputs": [
    {
     "name": "stdout",
     "output_type": "stream",
     "text": [
      "What would you like to do? (add/remove/show/clear/quit): Apples\n"
     ]
    }
   ],
   "source": [
    "cart = {}\n",
    "options = {\n",
    "    'Apples': .50,\n",
    "    'Chocolate': 2.99,\n",
    "    'Bread': 1.99,\n",
    "    'Milk': 3.99\n",
    "}\n",
    "\n",
    "def shop():\n",
    "    while True:\n",
    "        to_do = input('What would you like to do? (add/remove/show/clear/quit): ')\n",
    "        if to_do == 'add':\n",
    "            print('Items and Prices:')\n",
    "            for item, price in zip(options.keys(), options.values()):\n",
    "                print(f'{item}: ${price:.2f}')\n",
    "        else:\n",
    "            break\n",
    "shop()"
   ]
  },
  {
   "cell_type": "code",
   "execution_count": null,
   "id": "d1a36426",
   "metadata": {},
   "outputs": [],
   "source": []
  },
  {
   "cell_type": "code",
   "execution_count": null,
   "id": "f01921f0",
   "metadata": {},
   "outputs": [],
   "source": []
  }
 ],
 "metadata": {
  "kernelspec": {
   "display_name": "Python 3 (ipykernel)",
   "language": "python",
   "name": "python3"
  },
  "language_info": {
   "codemirror_mode": {
    "name": "ipython",
    "version": 3
   },
   "file_extension": ".py",
   "mimetype": "text/x-python",
   "name": "python",
   "nbconvert_exporter": "python",
   "pygments_lexer": "ipython3",
   "version": "3.11.5"
  }
 },
 "nbformat": 4,
 "nbformat_minor": 5
}
